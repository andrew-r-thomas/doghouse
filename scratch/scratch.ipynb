{
 "cells": [
  {
   "cell_type": "code",
   "execution_count": 28,
   "metadata": {},
   "outputs": [],
   "source": [
    "import numpy as np\n",
    "from scipy.io import wavfile"
   ]
  },
  {
   "cell_type": "code",
   "execution_count": 29,
   "metadata": {},
   "outputs": [],
   "source": [
    "def f(x):\n",
    "    f_0 = 1\n",
    "    envelope = lambda x: np.exp(-x)\n",
    "    return np.sin(x * np.pi * 2 * f_0) * envelope(x)\n",
    "\n",
    "def ACF(f, W, t,lag ):\n",
    "    return np.sum(f[t:W + t] * f[lag + t: lag + W + t])\n",
    "\n",
    "def DF(f, W, t, lag):\n",
    "    return ACF(f, W, t, 0) + ACF(f, W, t + lag, 0) - (2 * ACF(f, W, t, lag))\n",
    "\n",
    "def CMNDF(f, W, t, lag):\n",
    "    if lag == 0:\n",
    "        return 1\n",
    "    return DF(f, W, t, lag) / np.sum([DF(f, W, t, j + 1) for j in range(lag)]) * lag\n",
    "\n",
    "def detect_pitch(f, W, t, sample_rate, bounds, thresh=0.1):\n",
    "    CMNDF_vals= [CMNDF(f, W, t, i) for i in range(*bounds)]\n",
    "    sample = None\n",
    "    for i, val in enumerate(CMNDF_vals):\n",
    "        if val < thresh:\n",
    "            sample += i + bounds[0]\n",
    "            break\n",
    "    if sample is None:\n",
    "        sample = np.argmin(CMNDF_vals) + bounds[0]\n",
    "\n",
    "    return sample_rate / sample"
   ]
  },
  {
   "cell_type": "code",
   "execution_count": 30,
   "metadata": {},
   "outputs": [
    {
     "name": "stderr",
     "output_type": "stream",
     "text": [
      "/var/folders/np/tqrpvjw547x9313tqpr0sfd00000gn/T/ipykernel_63173/2641022657.py:15: RuntimeWarning: invalid value encountered in scalar divide\n",
      "  return DF(f, W, t, lag) / np.sum([DF(f, W, t, j + 1) for j in range(lag)]) * lag\n"
     ]
    },
    {
     "ename": "TypeError",
     "evalue": "unsupported operand type(s) for +=: 'NoneType' and 'int'",
     "output_type": "error",
     "traceback": [
      "\u001b[0;31m---------------------------------------------------------------------------\u001b[0m",
      "\u001b[0;31mTypeError\u001b[0m                                 Traceback (most recent call last)",
      "Cell \u001b[0;32mIn[30], line 9\u001b[0m\n\u001b[1;32m      6\u001b[0m pitches \u001b[38;5;241m=\u001b[39m []\n\u001b[1;32m      7\u001b[0m \u001b[38;5;28;01mfor\u001b[39;00m i \u001b[38;5;129;01min\u001b[39;00m \u001b[38;5;28mrange\u001b[39m(data\u001b[38;5;241m.\u001b[39mshape[\u001b[38;5;241m0\u001b[39m] \u001b[38;5;241m/\u001b[39m\u001b[38;5;241m/\u001b[39m (window_size \u001b[38;5;241m+\u001b[39m \u001b[38;5;241m3\u001b[39m)):\n\u001b[1;32m      8\u001b[0m     pitches\u001b[38;5;241m.\u001b[39mappend(\n\u001b[0;32m----> 9\u001b[0m         \u001b[43mdetect_pitch\u001b[49m\u001b[43m(\u001b[49m\n\u001b[1;32m     10\u001b[0m \u001b[43m            \u001b[49m\u001b[43mdata\u001b[49m\u001b[43m,\u001b[49m\n\u001b[1;32m     11\u001b[0m \u001b[43m            \u001b[49m\u001b[43mwindow_size\u001b[49m\u001b[43m,\u001b[49m\n\u001b[1;32m     12\u001b[0m \u001b[43m            \u001b[49m\u001b[43mi\u001b[49m\u001b[43m \u001b[49m\u001b[38;5;241;43m*\u001b[39;49m\u001b[43m \u001b[49m\u001b[43mwindow_size\u001b[49m\u001b[43m,\u001b[49m\n\u001b[1;32m     13\u001b[0m \u001b[43m            \u001b[49m\u001b[43msample_rate\u001b[49m\u001b[43m,\u001b[49m\n\u001b[1;32m     14\u001b[0m \u001b[43m            \u001b[49m\u001b[43mbounds\u001b[49m\n\u001b[1;32m     15\u001b[0m \u001b[43m        \u001b[49m\u001b[43m)\u001b[49m\n\u001b[1;32m     16\u001b[0m     )\n\u001b[1;32m     18\u001b[0m \u001b[38;5;28mprint\u001b[39m(pitches)\n",
      "Cell \u001b[0;32mIn[29], line 22\u001b[0m, in \u001b[0;36mdetect_pitch\u001b[0;34m(f, W, t, sample_rate, bounds, thresh)\u001b[0m\n\u001b[1;32m     20\u001b[0m \u001b[38;5;28;01mfor\u001b[39;00m i, val \u001b[38;5;129;01min\u001b[39;00m \u001b[38;5;28menumerate\u001b[39m(CMNDF_vals):\n\u001b[1;32m     21\u001b[0m     \u001b[38;5;28;01mif\u001b[39;00m val \u001b[38;5;241m<\u001b[39m thresh:\n\u001b[0;32m---> 22\u001b[0m         \u001b[43msample\u001b[49m\u001b[43m \u001b[49m\u001b[38;5;241;43m+\u001b[39;49m\u001b[38;5;241;43m=\u001b[39;49m\u001b[43m \u001b[49m\u001b[43mi\u001b[49m\u001b[43m \u001b[49m\u001b[38;5;241;43m+\u001b[39;49m\u001b[43m \u001b[49m\u001b[43mbounds\u001b[49m\u001b[43m[\u001b[49m\u001b[38;5;241;43m0\u001b[39;49m\u001b[43m]\u001b[49m\n\u001b[1;32m     23\u001b[0m         \u001b[38;5;28;01mbreak\u001b[39;00m\n\u001b[1;32m     24\u001b[0m \u001b[38;5;28;01mif\u001b[39;00m sample \u001b[38;5;129;01mis\u001b[39;00m \u001b[38;5;28;01mNone\u001b[39;00m:\n",
      "\u001b[0;31mTypeError\u001b[0m: unsupported operand type(s) for +=: 'NoneType' and 'int'"
     ]
    }
   ],
   "source": [
    "# TODO: test on larger data set\n",
    "# this doesn't work right now for some reason\n",
    "sample_rate, data = wavfile.read(\"test.wav\") \n",
    "data = data.astype(np.float64)\n",
    "window_size = int(5 / 2000 * 44100)\n",
    "bounds = [20, 2000]\n",
    "\n",
    "pitches = []\n",
    "for i in range(data.shape[0] // (window_size + 3)):\n",
    "    pitches.append(\n",
    "        detect_pitch(\n",
    "            data,\n",
    "            window_size,\n",
    "            i * window_size,\n",
    "            sample_rate,\n",
    "            bounds\n",
    "        )\n",
    "    )\n",
    "\n",
    "print(pitches)"
   ]
  },
  {
   "cell_type": "code",
   "execution_count": 31,
   "metadata": {},
   "outputs": [
    {
     "name": "stdout",
     "output_type": "stream",
     "text": [
      "1.002004008016032\n"
     ]
    }
   ],
   "source": [
    "sample_rate = 500 \n",
    "start = 0\n",
    "end = 5\n",
    "num_samples = int(sample_rate * (end - start) + 1)\n",
    "window_size = 200 \n",
    "bounds = [20, num_samples // 2]\n",
    "\n",
    "x = np.linspace(start, end, num_samples)\n",
    "print(detect_pitch(f(x), window_size, 1, sample_rate, bounds))"
   ]
  },
  {
   "cell_type": "code",
   "execution_count": 34,
   "metadata": {},
   "outputs": [
    {
     "data": {
      "text/plain": [
       "[10, 11, 12, 13, 14, 15, 16, 17, 18, 19]"
      ]
     },
     "execution_count": 34,
     "metadata": {},
     "output_type": "execute_result"
    }
   ],
   "source": [
    "bounds = [10, 20]\n",
    "[i for i in range(*bounds)]"
   ]
  },
  {
   "cell_type": "code",
   "execution_count": null,
   "metadata": {},
   "outputs": [],
   "source": []
  }
 ],
 "metadata": {
  "kernelspec": {
   "display_name": "Python 3",
   "language": "python",
   "name": "python3"
  },
  "language_info": {
   "codemirror_mode": {
    "name": "ipython",
    "version": 3
   },
   "file_extension": ".py",
   "mimetype": "text/x-python",
   "name": "python",
   "nbconvert_exporter": "python",
   "pygments_lexer": "ipython3",
   "version": "3.11.7"
  }
 },
 "nbformat": 4,
 "nbformat_minor": 2
}
