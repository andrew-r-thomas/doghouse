{
 "cells": [
  {
   "cell_type": "code",
   "execution_count": 21,
   "metadata": {},
   "outputs": [],
   "source": [
    "import numpy as np\n",
    "from scipy.io import wavfile"
   ]
  },
  {
   "cell_type": "code",
   "execution_count": 22,
   "metadata": {},
   "outputs": [],
   "source": [
    "def f(x):\n",
    "    f_0 = 1\n",
    "    envelope = lambda x: np.exp(-x)\n",
    "    return np.sin(x * np.pi * 2 * f_0) * envelope(x)\n",
    "\n",
    "def ACF(f, W, t,lag ):\n",
    "    return np.sum(f[t:W + t] * f[lag + t: lag + W + t])\n",
    "\n",
    "def DF(f, W, t, lag):\n",
    "    return ACF(f, W, t, 0) + ACF(f, W, t + lag, 0) - (2 * ACF(f, W, t, lag))\n",
    "\n",
    "def CMNDF(f, W, t, lag):\n",
    "    if lag == 0:\n",
    "        return 1\n",
    "    return DF(f, W, t, lag) / np.sum([DF(f, W, t, j + 1) for j in range(lag)]) * lag\n",
    "\n",
    "def detect_pitch(f, W, t, sample_rate, bounds, thresh=0.1):\n",
    "    CMNDF_vals= [CMNDF(f, W, t, i) for i in range(*bounds)]\n",
    "    sample = None\n",
    "    for i, val in enumerate(CMNDF_vals):\n",
    "        if val < thresh:\n",
    "            sample += i + bounds[0]\n",
    "            break\n",
    "    if sample is None:\n",
    "        sample = np.argmin(CMNDF_vals) + bounds[0]\n",
    "\n",
    "    return sample_rate / sample"
   ]
  },
  {
   "cell_type": "code",
   "execution_count": 23,
   "metadata": {},
   "outputs": [
    {
     "name": "stdout",
     "output_type": "stream",
     "text": [
      "1.002004008016032\n"
     ]
    }
   ],
   "source": [
    "sample_rate, data = wavfile.read(\"test.wav\") \n",
    "data = data.astype(np.float64)\n",
    "window_size = int(5 / 2000 * 44100)\n",
    "bounds = [20, 2000]\n",
    "\n",
    "pitches = []\n",
    "for i in range(data.shape[0] // (window_size + 3)):\n",
    "    pitches.append(\n",
    "        detect_pitch(\n",
    "            data,\n",
    "            window_size,\n",
    "            i * window_size,\n",
    "            sample_rate,\n",
    "            bounds\n",
    "        )\n",
    "    )\n",
    "\n",
    "print(pitches)"
   ]
  },
  {
   "cell_type": "code",
   "execution_count": null,
   "metadata": {},
   "outputs": [],
   "source": []
  }
 ],
 "metadata": {
  "kernelspec": {
   "display_name": "Python 3",
   "language": "python",
   "name": "python3"
  },
  "language_info": {
   "codemirror_mode": {
    "name": "ipython",
    "version": 3
   },
   "file_extension": ".py",
   "mimetype": "text/x-python",
   "name": "python",
   "nbconvert_exporter": "python",
   "pygments_lexer": "ipython3",
   "version": "3.11.7"
  }
 },
 "nbformat": 4,
 "nbformat_minor": 2
}
