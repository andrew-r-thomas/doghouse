{
 "cells": [
  {
   "cell_type": "code",
   "execution_count": 1,
   "metadata": {},
   "outputs": [],
   "source": [
    "import numpy as np"
   ]
  },
  {
   "cell_type": "code",
   "execution_count": 12,
   "metadata": {},
   "outputs": [],
   "source": [
    "def f(x):\n",
    "    f_0 = 1\n",
    "    envelope = lambda x: np.exp(-x)\n",
    "    return np.sin(x * np.pi * 2 * f_0) * envelope(x)\n",
    "\n",
    "def ACF(f, W, t,lag ):\n",
    "    return np.sum(f[t:W + t] * f[lag + t: lag + W + t])\n",
    "\n",
    "def detect_pitch(f, W, t, sample_rate, bounds):\n",
    "    ACF_vals = [ACF(f, W, t, i) for i in range(*bounds)]\n",
    "    sample = np.argmax(ACF_vals) + bounds[0]\n",
    "    return sample_rate / sample"
   ]
  },
  {
   "cell_type": "code",
   "execution_count": 14,
   "metadata": {},
   "outputs": [
    {
     "name": "stdout",
     "output_type": "stream",
     "text": [
      "50.0\n"
     ]
    }
   ],
   "source": [
    "sample_rate = 500 \n",
    "start = 0\n",
    "end = 5\n",
    "num_samples = int(sample_rate * (end - start) + 1)\n",
    "window_size = 200 \n",
    "bounds = [20, num_samples // 2]\n",
    "\n",
    "x = np.linspace(start, end, num_samples)\n",
    "print(detect_pitch(f(x), window_size, 1, sample_rate, bounds))"
   ]
  },
  {
   "cell_type": "code",
   "execution_count": null,
   "metadata": {},
   "outputs": [],
   "source": []
  }
 ],
 "metadata": {
  "kernelspec": {
   "display_name": "Python 3",
   "language": "python",
   "name": "python3"
  },
  "language_info": {
   "codemirror_mode": {
    "name": "ipython",
    "version": 3
   },
   "file_extension": ".py",
   "mimetype": "text/x-python",
   "name": "python",
   "nbconvert_exporter": "python",
   "pygments_lexer": "ipython3",
   "version": "3.11.7"
  }
 },
 "nbformat": 4,
 "nbformat_minor": 2
}
